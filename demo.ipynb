{
  "nbformat": 4,
  "nbformat_minor": 0,
  "metadata": {
    "colab": {
      "provenance": []
    },
    "kernelspec": {
      "name": "python3",
      "display_name": "Python 3"
    },
    "language_info": {
      "name": "python"
    }
  },
  "cells": [
    {
      "cell_type": "code",
      "source": [
        "import numpy as np"
      ],
      "metadata": {
        "id": "G5MOoY9h0W89"
      },
      "execution_count": null,
      "outputs": []
    },
    {
      "cell_type": "code",
      "source": [
        "def simulate_ising(L, beta, Nsteps):\n",
        "  config=initilize_config(L)\n",
        "  for _ in range(Nsteps):\n",
        "    config=metropolis_step(config, beta)\n",
        "  return config"
      ],
      "metadata": {
        "id": "mjb4PRt8aVzG"
      },
      "execution_count": null,
      "outputs": []
    },
    {
      "cell_type": "code",
      "source": [
        "def initilize_config(L):\n",
        "  return np.random.choice([-1,1], size=(L,L))"
      ],
      "metadata": {
        "id": "HD-55YBkapCf"
      },
      "execution_count": null,
      "outputs": []
    },
    {
      "cell_type": "code",
      "source": [
        "def metropolis_step(config, beta):\n",
        "  \"\"\"\n",
        "  One step update of metropolis algorithm\n",
        "\n",
        "  Input\n",
        "  - config: current spin configuration\n",
        "  - beta: inverse temperature\n",
        "\n",
        "  Output\n",
        "  - config: updated configuration\n",
        "  \"\"\"\n",
        "  L=config.shape[0]\n",
        "  for _ in range(L*L):\n",
        "    i,j = np.random.randint(0,L,size=2)\n",
        "    S=config[i,j]\n",
        "    # nearest neighbour spins\n",
        "    S_nbr=config[(i+1)%L,j]+config[(i-1)%L,j]+config[i,(j-1)%L]+config[i,(j+1)%L]\n",
        "    dE=2*S*S_nbr\n",
        "    if dE<0 or np.random.rand()<np.exp(-beta*dE):\n",
        "      config[i,j]*=-1\n",
        "  return config"
      ],
      "metadata": {
        "id": "FxAwYT0YYPW7"
      },
      "execution_count": null,
      "outputs": []
    },
    {
      "cell_type": "code",
      "source": [
        "import matplotlib.pyplot as plt"
      ],
      "metadata": {
        "id": "LVGmv9Ijbe0f"
      },
      "execution_count": null,
      "outputs": []
    },
    {
      "cell_type": "code",
      "source": [
        "def visualize_config(config):\n",
        "  plt.imshow(config, cmap=\"bwr\", vmin=-1, vmax=1)\n",
        "  plt.colorbar(label=\"Spin\")\n",
        "  plt.title(\"Ising spin configuration\")\n",
        "  plt.axis(\"off\")\n",
        "  plt.show()"
      ],
      "metadata": {
        "id": "AC0MLqZVbLws"
      },
      "execution_count": null,
      "outputs": []
    },
    {
      "cell_type": "code",
      "source": [
        "visualize_config(simulate_ising(20,.1,100))"
      ],
      "metadata": {
        "id": "O9ESkA2ubRcW"
      },
      "execution_count": null,
      "outputs": []
    },
    {
      "cell_type": "code",
      "source": [
        "def generate_dataset(L, Ts, Nsamples, Nsteps):\n",
        "  \"\"\"\n",
        "  Generate dataset for supervised learning\n",
        "\n",
        "  Input\n",
        "  - L: lattice size\n",
        "  - Ts: temperature range\n",
        "  - Nsamples: size of samples for each temperature\n",
        "  - Nsteps: steps of metropolitan algorithm\n",
        "\n",
        "  Output\n",
        "  - np.array(data): predictor\n",
        "  - np.array(labels): target\n",
        "  \"\"\"\n",
        "  data=[]\n",
        "  labels=[]\n",
        "  Tc = 2/np.log(1+np.sqrt(2)) # 2.269\n",
        "  for T in Ts:\n",
        "    beta=1/T\n",
        "    for _ in range(Nsamples):\n",
        "      config=simulate_ising(L,beta,Nsteps)\n",
        "      data.append(config.copy())\n",
        "      labels.append(1 if T<Tc else 0) # ordered or not\n",
        "  return np.array(data), np.array(labels)"
      ],
      "metadata": {
        "id": "jsr6bzllb9E8"
      },
      "execution_count": null,
      "outputs": []
    },
    {
      "cell_type": "code",
      "source": [
        "L_=8\n",
        "Ts_=np.linspace(1.,4.,20)\n",
        "Nsamples_=100\n",
        "Nsteps_=100\n",
        "\n",
        "xs_,ys_=generate_dataset(L_,Ts_,Nsamples_,Nsteps_)"
      ],
      "metadata": {
        "id": "lYBVH3Orfrn9"
      },
      "execution_count": null,
      "outputs": []
    },
    {
      "cell_type": "code",
      "source": [
        "visualize_config(xs_[0])\n",
        "print(\"Label:\", ys_[0])\n",
        "visualize_config(xs_[-1])\n",
        "print(\"Label:\", ys_[-1])"
      ],
      "metadata": {
        "id": "cEOgzgSrf7xI"
      },
      "execution_count": null,
      "outputs": []
    },
    {
      "cell_type": "code",
      "source": [
        "# np.savez(\"ising_data.npz\", X=xs_, y=ys_)"
      ],
      "metadata": {
        "id": "3887TzmZgTvV"
      },
      "execution_count": null,
      "outputs": []
    },
    {
      "cell_type": "code",
      "source": [
        "# data = np.load(\"ising_data.npz\")\n",
        "# xs_, ys_ = data[\"X\"], data[\"y\"]"
      ],
      "metadata": {
        "id": "wvZvCbB7gdec"
      },
      "execution_count": null,
      "outputs": []
    },
    {
      "cell_type": "code",
      "source": [
        "xs_vct_ = xs_.reshape(len(xs_),-1)"
      ],
      "metadata": {
        "id": "KZGt71XJUDKl"
      },
      "execution_count": null,
      "outputs": []
    },
    {
      "cell_type": "markdown",
      "source": [
        "# PCA\n",
        "Perform the principal component analysis and show the two-dimensional image."
      ],
      "metadata": {
        "id": "M_A8bPmqZ5bS"
      }
    },
    {
      "cell_type": "code",
      "source": [
        "from sklearn.decomposition import PCA"
      ],
      "metadata": {
        "id": "Hx0jMVWQUDG0"
      },
      "execution_count": null,
      "outputs": []
    },
    {
      "cell_type": "code",
      "source": [
        "pca=PCA(n_components=2)\n",
        "xs_pca_=pca.fit_transform(xs_vct_)"
      ],
      "metadata": {
        "id": "ipSGy-kwUDC2"
      },
      "execution_count": null,
      "outputs": []
    },
    {
      "cell_type": "code",
      "source": [
        "def visualize_pca2(data, label):\n",
        "  plt.figure(figsize=(16,9))\n",
        "  scatter=plt.scatter(data[:,0],data[:,1],c=label,cmap=\"coolwarm\",s=10)\n",
        "  plt.colorbar(scatter, label=\"Label (1: ordered; 0: disordered)\")\n",
        "  plt.title(\"PCA of 2D Ising configuration\")\n",
        "  plt.xlabel(\"PC1\")\n",
        "  plt.ylabel(\"PC2\")\n",
        "  plt.grid(True)\n",
        "  plt.show()"
      ],
      "metadata": {
        "id": "rH0jS8GGUC6U"
      },
      "execution_count": null,
      "outputs": []
    },
    {
      "cell_type": "code",
      "source": [
        "visualize_pca2(xs_pca_,ys_)"
      ],
      "metadata": {
        "id": "LmAwIqNSWBNJ"
      },
      "execution_count": null,
      "outputs": []
    },
    {
      "cell_type": "markdown",
      "source": [
        "# t-SNE\n",
        "Perform the t-distributed Stochastic Neighbor Embedding and show the two-dimensional image."
      ],
      "metadata": {
        "id": "gYIa_HG_Z9GC"
      }
    },
    {
      "cell_type": "code",
      "source": [
        "from sklearn.manifold import TSNE"
      ],
      "metadata": {
        "id": "RHlhGaY0WBKt"
      },
      "execution_count": null,
      "outputs": []
    },
    {
      "cell_type": "code",
      "source": [
        "tsne=TSNE(n_components=2,perplexity=30,init=\"pca\",random_state=0)\n",
        "xs_tsne_=tsne.fit_transform(xs_vct_)"
      ],
      "metadata": {
        "id": "acefM8IpWBIJ"
      },
      "execution_count": null,
      "outputs": []
    },
    {
      "cell_type": "code",
      "source": [
        "def visualize_tsne2(data,label):\n",
        "  plt.figure(figsize=(16,9))\n",
        "  scatter=plt.scatter(data[:,0],data[:,1],c=label,cmap=\"coolwarm\",s=10)\n",
        "  plt.colorbar(scatter,label=\"Label (1: ordered; 0: disordered)\")\n",
        "  plt.title(\"t-SNE of 2D Ising configuration\")\n",
        "  plt.xlabel(\"t-SNE 1\")\n",
        "  plt.ylabel(\"t-SNE 2\")\n",
        "  plt.grid(True)\n",
        "  plt.show()"
      ],
      "metadata": {
        "id": "IFIC1oEjWBB4"
      },
      "execution_count": null,
      "outputs": []
    },
    {
      "cell_type": "code",
      "source": [
        "visualize_tsne2(xs_tsne_,ys_)"
      ],
      "metadata": {
        "id": "6sXrbhW9WA-b"
      },
      "execution_count": null,
      "outputs": []
    },
    {
      "cell_type": "markdown",
      "source": [
        "# k-means\n",
        "Perform the k-means clustering with $k=2$ and show the two-dimensional image."
      ],
      "metadata": {
        "id": "tm8b7qXRZ_8D"
      }
    },
    {
      "cell_type": "code",
      "source": [
        "from sklearn.cluster import KMeans\n",
        "from sklearn.metrics import confusion_matrix, accuracy_score\n",
        "import seaborn as sns"
      ],
      "metadata": {
        "id": "StHU_PpJrCpw"
      },
      "execution_count": null,
      "outputs": []
    },
    {
      "cell_type": "code",
      "source": [
        "kmeans=KMeans(n_clusters=2,random_state=0)\n",
        "cluster_labels_=kmeans.fit_predict(xs_vct_)"
      ],
      "metadata": {
        "id": "_b8U9hNqaE0E"
      },
      "execution_count": null,
      "outputs": []
    },
    {
      "cell_type": "code",
      "source": [
        "def visualize_tsne2_kmeans2(data,label):\n",
        "  plt.figure(figsize=(16,9))\n",
        "  scatter=plt.scatter(data[:,0],data[:,1],c=label,cmap=\"coolwarm\",s=10)\n",
        "  plt.colorbar(scatter,label=\"Label by k-means\")\n",
        "  plt.title(\"t-SNE + k-means of 2D Ising configuration\")\n",
        "  plt.xlabel(\"t-SNE 1\")\n",
        "  plt.ylabel(\"t-SNE 2\")\n",
        "  plt.grid(True)\n",
        "  plt.show()"
      ],
      "metadata": {
        "id": "xmSnd2G4aRpO"
      },
      "execution_count": null,
      "outputs": []
    },
    {
      "cell_type": "code",
      "source": [
        "visualize_tsne2_kmeans2(xs_tsne_,cluster_labels_)"
      ],
      "metadata": {
        "id": "PypgpQrpaySC"
      },
      "execution_count": null,
      "outputs": []
    },
    {
      "cell_type": "markdown",
      "source": [
        "# Autoencoder\n",
        "Use the autoencoder to illustrate the structure in the two-dimensional space."
      ],
      "metadata": {
        "id": "yIu1QS3kcZzI"
      }
    },
    {
      "cell_type": "code",
      "source": [
        "import tensorflow as tf\n",
        "from tensorflow.keras import layers, models"
      ],
      "metadata": {
        "id": "G5b8nufFa2gg"
      },
      "execution_count": null,
      "outputs": []
    },
    {
      "cell_type": "code",
      "source": [
        "xs_uni_=(xs_vct_+1)/2"
      ],
      "metadata": {
        "id": "K_Yq1P_ucb87"
      },
      "execution_count": null,
      "outputs": []
    },
    {
      "cell_type": "code",
      "source": [
        "dim_latent_=2\n",
        "dim_input_=xs_uni_.shape[1]"
      ],
      "metadata": {
        "id": "munW-cGldJ6V"
      },
      "execution_count": null,
      "outputs": []
    },
    {
      "cell_type": "code",
      "source": [
        "encoder=models.Sequential([\n",
        "    layers.Input(shape=(dim_input_,)),\n",
        "    layers.Dense(dim_input_//2,activation=\"relu\"),\n",
        "    layers.Dense(dim_latent_)\n",
        "])"
      ],
      "metadata": {
        "id": "aHUuCF6Ddbp-"
      },
      "execution_count": null,
      "outputs": []
    },
    {
      "cell_type": "code",
      "source": [
        "from tensorflow.keras.utils import plot_model\n",
        "from IPython.display import Image\n",
        "\n",
        "plot_model(encoder,\n",
        "           to_file=\"encoder.png\",\n",
        "           show_shapes=True,\n",
        "           show_layer_names=True,\n",
        "           dpi=100)\n",
        "\n",
        "Image(filename=\"encoder.png\", width=400)"
      ],
      "metadata": {
        "id": "xdgVUr4ZwD45"
      },
      "execution_count": null,
      "outputs": []
    },
    {
      "cell_type": "code",
      "source": [
        "decoder=models.Sequential([\n",
        "    layers.Input(shape=(dim_latent_,)),\n",
        "    layers.Dense(dim_input_//2,activation=\"relu\"),\n",
        "    layers.Dense(dim_input_,activation=\"sigmoid\")\n",
        "])"
      ],
      "metadata": {
        "id": "coo6NGzPdr-Y"
      },
      "execution_count": null,
      "outputs": []
    },
    {
      "cell_type": "code",
      "source": [
        "plot_model(decoder,\n",
        "           to_file=\"decoder.png\",\n",
        "           show_shapes=True,\n",
        "           show_layer_names=True,\n",
        "           dpi=100)\n",
        "\n",
        "Image(filename=\"decoder.png\", width=400)"
      ],
      "metadata": {
        "id": "nGkNHsPjwEow"
      },
      "execution_count": null,
      "outputs": []
    },
    {
      "cell_type": "code",
      "source": [
        "autoencoder=models.Sequential([\n",
        "    encoder,\n",
        "    decoder\n",
        "])"
      ],
      "metadata": {
        "id": "fwX9VbqRd-qp"
      },
      "execution_count": null,
      "outputs": []
    },
    {
      "cell_type": "code",
      "source": [
        "plot_model(autoencoder,\n",
        "           to_file=\"autoencoder.png\",\n",
        "           show_shapes=True,\n",
        "           show_layer_names=True,\n",
        "           dpi=100)\n",
        "\n",
        "Image(filename=\"autoencoder.png\", width=400)"
      ],
      "metadata": {
        "id": "CBQ41P7Nv5Rr"
      },
      "execution_count": null,
      "outputs": []
    },
    {
      "cell_type": "code",
      "source": [
        "autoencoder.compile(optimizer=\"adam\", loss=\"mse\")"
      ],
      "metadata": {
        "id": "_dBIYSoGeDcR"
      },
      "execution_count": null,
      "outputs": []
    },
    {
      "cell_type": "code",
      "source": [
        "autoencoder.fit(xs_uni_,xs_uni_, epochs=20,batch_size=64,validation_split=0.1)"
      ],
      "metadata": {
        "id": "5A9znuwAeLZL"
      },
      "execution_count": null,
      "outputs": []
    },
    {
      "cell_type": "code",
      "source": [
        "zs_=encoder.predict(xs_uni_)"
      ],
      "metadata": {
        "id": "E1keu_dOebf4"
      },
      "execution_count": null,
      "outputs": []
    },
    {
      "cell_type": "code",
      "source": [
        "def visualize_autoencoder2(data,label):\n",
        "  plt.figure(figsize=(16,9))\n",
        "  scatter=plt.scatter(data[:,0],data[:,1],c=label,cmap=\"coolwarm\",s=10)\n",
        "  plt.colorbar(scatter,label=\"True label (1: ordered; 0: disordered)\")\n",
        "  plt.title(\"Autoencoder\")\n",
        "  plt.xlabel(\"latent variable 1\")\n",
        "  plt.ylabel(\"latent variable 2\")\n",
        "  plt.grid(True)\n",
        "  plt.show()"
      ],
      "metadata": {
        "id": "LmBBnuMOfoTS"
      },
      "execution_count": null,
      "outputs": []
    },
    {
      "cell_type": "code",
      "source": [
        "visualize_autoencoder2(zs_,ys_)"
      ],
      "metadata": {
        "id": "vo9o9XnxgKWr"
      },
      "execution_count": null,
      "outputs": []
    },
    {
      "cell_type": "markdown",
      "source": [
        "# Consider the spin flip symmetry"
      ],
      "metadata": {
        "id": "N81NwCzRi3ze"
      }
    },
    {
      "cell_type": "markdown",
      "source": [
        "## Trial 1\n",
        "Extend the dataset to include the flipped configuration."
      ],
      "metadata": {
        "id": "PeQAGKczmuUJ"
      }
    },
    {
      "cell_type": "code",
      "source": [
        "xs_flip_ = -xs_\n",
        "ys_flip_ = ys_.copy()"
      ],
      "metadata": {
        "id": "2IA7tqMlhXgx"
      },
      "execution_count": null,
      "outputs": []
    },
    {
      "cell_type": "code",
      "source": [
        "xs_extended_=np.concatenate([xs_,xs_flip_],axis=0)\n",
        "ys_extended_=np.concatenate([ys_,ys_flip_],axis=0)"
      ],
      "metadata": {
        "id": "HMcoq5PWjCM6"
      },
      "execution_count": null,
      "outputs": []
    },
    {
      "cell_type": "code",
      "source": [
        "xs_extended_vct_=xs_extended_.reshape(len(xs_extended_),-1).astype(\"float64\")\n",
        "xs_extended_uni_=(xs_extended_vct_+1)/2"
      ],
      "metadata": {
        "id": "zPWTTy-QjTiu"
      },
      "execution_count": null,
      "outputs": []
    },
    {
      "cell_type": "code",
      "source": [
        "autoencoder.fit(xs_extended_uni_,xs_extended_uni_, epochs=20,batch_size=64,validation_split=0.1)"
      ],
      "metadata": {
        "id": "wNv4DRL2jdWK"
      },
      "execution_count": null,
      "outputs": []
    },
    {
      "cell_type": "code",
      "source": [
        "zs_extended_=encoder.predict(xs_extended_uni_)"
      ],
      "metadata": {
        "id": "KD7LkqXKjo0A"
      },
      "execution_count": null,
      "outputs": []
    },
    {
      "cell_type": "code",
      "source": [
        "visualize_autoencoder2(zs_extended_,ys_extended_)"
      ],
      "metadata": {
        "id": "-A4FGPwwju8f"
      },
      "execution_count": null,
      "outputs": []
    },
    {
      "cell_type": "markdown",
      "source": [
        "## Trial 2\n",
        "Introduce the triplet loss function."
      ],
      "metadata": {
        "id": "6TDUEvp-mwfz"
      }
    },
    {
      "cell_type": "code",
      "source": [
        "def create_triplet_flipsym(data):\n",
        "  N=len(data)\n",
        "  triplets=[]\n",
        "\n",
        "  for i in range(N):\n",
        "    anchor=data[i]\n",
        "    positive=-anchor # flipped configuration is in the same phase\n",
        "    j = np.random.choice([k for k in range(N) if k!=i])\n",
        "    negative=data[j]\n",
        "\n",
        "    triplets.append((anchor,positive,negative))\n",
        "\n",
        "  return triplets"
      ],
      "metadata": {
        "id": "eqoQOML-jw4j"
      },
      "execution_count": null,
      "outputs": []
    },
    {
      "cell_type": "code",
      "source": [
        "triplets_=create_triplet_flipsym(xs_)"
      ],
      "metadata": {
        "id": "9ukUGIvfnpfb"
      },
      "execution_count": null,
      "outputs": []
    },
    {
      "cell_type": "code",
      "source": [
        "as_=np.array([t[0] for t in triplets_])\n",
        "as_ = as_.reshape(len(as_),-1).astype(\"float64\")\n",
        "as_=(as_+1)/2"
      ],
      "metadata": {
        "id": "xgML9IVhqEQv"
      },
      "execution_count": null,
      "outputs": []
    },
    {
      "cell_type": "code",
      "source": [
        "ps_=np.array([t[0] for t in triplets_])\n",
        "ps_ = ps_.reshape(len(ps_),-1).astype(\"float64\")\n",
        "ps_=(ps_+1)/2"
      ],
      "metadata": {
        "id": "nNsCtfCWqf0i"
      },
      "execution_count": null,
      "outputs": []
    },
    {
      "cell_type": "code",
      "source": [
        "ns_=np.array([t[0] for t in triplets_])\n",
        "ns_ = ns_.reshape(len(ns_),-1).astype(\"float64\")\n",
        "ns_=(ns_+1)/2"
      ],
      "metadata": {
        "id": "GxBkvd2mqmlY"
      },
      "execution_count": null,
      "outputs": []
    },
    {
      "cell_type": "code",
      "source": [
        "from tensorflow.keras import Input"
      ],
      "metadata": {
        "id": "rRzKvWTaqqat"
      },
      "execution_count": null,
      "outputs": []
    },
    {
      "cell_type": "code",
      "source": [
        "dim_latent_=2\n",
        "dim_input_=as_.shape[1]"
      ],
      "metadata": {
        "id": "rwLel6KrqzLE"
      },
      "execution_count": null,
      "outputs": []
    },
    {
      "cell_type": "code",
      "source": [
        "encoder=models.Sequential([\n",
        "      layers.Input(shape=(dim_input_,)),\n",
        "      layers.Dense(dim_input_//2, activation=\"relu\"),\n",
        "      layers.Dense(dim_latent_)\n",
        "  ])"
      ],
      "metadata": {
        "id": "jxZmwYlIrcuY"
      },
      "execution_count": null,
      "outputs": []
    },
    {
      "cell_type": "code",
      "source": [
        "plot_model(encoder,\n",
        "           to_file=\"encoder.png\",\n",
        "           show_shapes=True,\n",
        "           show_layer_names=True,\n",
        "           dpi=100)\n",
        "\n",
        "Image(filename=\"encoder.png\", width=400)"
      ],
      "metadata": {
        "id": "MekAlr6ewYyC"
      },
      "execution_count": null,
      "outputs": []
    },
    {
      "cell_type": "code",
      "source": [
        "in_as_=Input(shape=(dim_input_,))\n",
        "in_ps_=Input(shape=(dim_input_,))\n",
        "in_ns_=Input(shape=(dim_input_,))"
      ],
      "metadata": {
        "id": "HWrQtAHyulgw"
      },
      "execution_count": null,
      "outputs": []
    },
    {
      "cell_type": "code",
      "source": [
        "out_as_=encoder(in_as_)\n",
        "out_ps_=encoder(in_ps_)\n",
        "out_ns_=encoder(in_ns_)"
      ],
      "metadata": {
        "id": "QDBcbLpqvOqX"
      },
      "execution_count": null,
      "outputs": []
    },
    {
      "cell_type": "code",
      "source": [
        "triplet_model=models.Model(\n",
        "    inputs=[in_as_,in_ps_,in_ns_],\n",
        "    outputs=layers.Concatenate()([out_as_,out_ps_,out_ns_])\n",
        ")"
      ],
      "metadata": {
        "id": "15e4gO-0ruJL"
      },
      "execution_count": null,
      "outputs": []
    },
    {
      "cell_type": "code",
      "source": [
        "plot_model(triplet_model,\n",
        "           to_file=\"triplet_model.png\",\n",
        "           show_shapes=True,\n",
        "           show_layer_names=True,\n",
        "           dpi=100)\n",
        "\n",
        "Image(filename=\"triplet_model.png\", width=600)"
      ],
      "metadata": {
        "id": "EiTdULQsuVtS"
      },
      "execution_count": null,
      "outputs": []
    },
    {
      "cell_type": "code",
      "source": [
        "def triplet_loss(margin=1.0):\n",
        "  \"\"\"\n",
        "  triplet loss function\n",
        "  \"\"\"\n",
        "  def loss(y_true, y_pred):\n",
        "    z_a=y_pred[:,:dim_latent_]\n",
        "    z_p=y_pred[:,dim_latent_:2*dim_latent_]\n",
        "    z_n=y_pred[:,2*dim_latent_:]\n",
        "\n",
        "    d_ap=tf.reduce_sum(tf.square(z_a-z_p), axis=1)\n",
        "    d_an=tf.reduce_sum(tf.square(z_a-z_n), axis=1)\n",
        "\n",
        "    loss=tf.maximum(d_ap-d_an+margin,0.0)\n",
        "    return tf.reduce_mean(loss)\n",
        "  return loss"
      ],
      "metadata": {
        "id": "P_J2TslDwg2q"
      },
      "execution_count": null,
      "outputs": []
    },
    {
      "cell_type": "code",
      "source": [
        "triplet_model.compile(optimizer=\"adam\",loss=triplet_loss(margin=1.0))"
      ],
      "metadata": {
        "id": "WjH3YnRx0M5T"
      },
      "execution_count": null,
      "outputs": []
    },
    {
      "cell_type": "code",
      "source": [
        "triplet_model.fit(\n",
        "    [as_,ps_,ns_],\n",
        "    np.zeros(len(as_)), # dummy taraining labels\n",
        "    batch_size=64, epochs=40\n",
        ")"
      ],
      "metadata": {
        "id": "jqvPMegk1NKZ"
      },
      "execution_count": null,
      "outputs": []
    },
    {
      "cell_type": "code",
      "source": [
        "zs_tri_=encoder.predict(xs_uni_)"
      ],
      "metadata": {
        "id": "7sHGp1-d1fj_"
      },
      "execution_count": null,
      "outputs": []
    },
    {
      "cell_type": "code",
      "source": [
        "def visualize_triplet_loss2(data,label):\n",
        "  plt.figure(figsize=(16,9))\n",
        "  scatter=plt.scatter(data[:,0],data[:,1],c=label,cmap=\"coolwarm\",s=10)\n",
        "  plt.colorbar(scatter,label=\"True label (1: ordered; 0: disordered)\")\n",
        "  plt.title(\"Latent space (triplet loss: weak supervised)\")\n",
        "  plt.xlabel(\"latent variable 1\")\n",
        "  plt.ylabel(\"latent variable 2\")\n",
        "  plt.grid(True)\n",
        "  plt.show()"
      ],
      "metadata": {
        "id": "pJu7tVpz2HVh"
      },
      "execution_count": null,
      "outputs": []
    },
    {
      "cell_type": "code",
      "source": [
        "visualize_triplet_loss2(zs_tri_,ys_)"
      ],
      "metadata": {
        "id": "OrikH799156i"
      },
      "execution_count": null,
      "outputs": []
    },
    {
      "cell_type": "code",
      "source": [
        "zs_tri_tsne_ = TSNE(n_components=2, perplexity=30).fit_transform(zs_tri_)"
      ],
      "metadata": {
        "id": "MyW_uMg53WXC"
      },
      "execution_count": null,
      "outputs": []
    },
    {
      "cell_type": "code",
      "source": [
        "def visualize_triplet_loss_tsne2(data,label):\n",
        "  plt.figure(figsize=(16,9))\n",
        "  scatter=plt.scatter(data[:,0],data[:,1],c=label,cmap=\"coolwarm\",s=10)\n",
        "  plt.colorbar(scatter,label=\"True label (1: ordered; 0: disordered)\")\n",
        "  plt.title(\"t-SNE of Triplet Loss latent space\")\n",
        "  plt.xlabel(\"latent variable 1\")\n",
        "  plt.ylabel(\"latent variable 2\")\n",
        "  plt.grid(True)\n",
        "  plt.show()"
      ],
      "metadata": {
        "id": "7ECjZWUM3X89"
      },
      "execution_count": null,
      "outputs": []
    },
    {
      "cell_type": "code",
      "source": [
        "visualize_triplet_loss_tsne2(zs_tri_tsne_,ys_)"
      ],
      "metadata": {
        "id": "K_5H7uOB2Aug"
      },
      "execution_count": null,
      "outputs": []
    },
    {
      "cell_type": "code",
      "source": [],
      "metadata": {
        "id": "U098Pxry4GIo"
      },
      "execution_count": null,
      "outputs": []
    }
  ]
}